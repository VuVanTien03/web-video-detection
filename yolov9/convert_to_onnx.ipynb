{
 "cells": [
  {
   "cell_type": "code",
   "execution_count": null,
   "id": "d3c9f256",
   "metadata": {},
   "outputs": [],
   "source": [
    "import torch\n",
    "from models.common import DetectMultiBackend, AutoShape\n",
    "\n",
    "weight_path   = r\"D:\\code\\python\\DataMining\\yolov9\\owncode\\data\\weight.pt\"\n",
    "model = DetectMultiBackend(weight_path , device = \"cpu\")\n",
    "model = AutoShape(model)\n",
    "model.eval()\n",
    "dummy_input = torch.randn(1 , 3, 640 , 640)\n",
    "torch.onnx.export(\n",
    "    model,\n",
    "    dummy_input,\n",
    "    \"model.onnx\",\n",
    "    input_names=[\"images\"],\n",
    "    output_names=[\"output\"],\n",
    "    dynamic_axes={\n",
    "        \"images\": {0: \"batch\", 2: \"height\", 3: \"width\"},  # Hỗ trợ ảnh có H, W khác nhau\n",
    "    },\n",
    "    opset_version=12\n",
    ")\n"
   ]
  }
 ],
 "metadata": {
  "kernelspec": {
   "display_name": ".venv_311",
   "language": "python",
   "name": "python3"
  },
  "language_info": {
   "name": "python",
   "version": "3.13.1"
  }
 },
 "nbformat": 4,
 "nbformat_minor": 5
}
